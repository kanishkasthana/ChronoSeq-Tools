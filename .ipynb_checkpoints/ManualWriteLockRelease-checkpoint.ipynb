{
 "cells": [
  {
   "cell_type": "code",
   "execution_count": 1,
   "id": "5628bb9b-7c8e-42ea-9dda-ec2030459778",
   "metadata": {},
   "outputs": [],
   "source": [
    "from multiprocessing.managers import BaseManager\n",
    "from threading import Lock\n",
    "class LockManager(BaseManager):\n",
    "    pass \n",
    "LockManager.register(\"getLock\")\n",
    "manager = LockManager(address=(\"compute-2\", 55442), authkey=b'Lock')\n",
    "manager.connect()\n",
    "lock=manager.getLock()"
   ]
  },
  {
   "cell_type": "code",
   "execution_count": 2,
   "id": "4b2d568c-553c-4ba1-bc16-f236d118f9ed",
   "metadata": {},
   "outputs": [],
   "source": [
    "#Execute this to manually release the lock if StartPy.py cannot be restarted.\n",
    "lock.release()"
   ]
  },
  {
   "cell_type": "code",
   "execution_count": null,
   "id": "dcba3598-c4d2-4c44-ab0c-d7bcd89c7b67",
   "metadata": {},
   "outputs": [],
   "source": [
    "lock.acquire()"
   ]
  },
  {
   "cell_type": "raw",
   "id": "de0705a2-b2bc-4eee-8009-8afb8374e7fa",
   "metadata": {},
   "source": [
    "lock.locked()"
   ]
  }
 ],
 "metadata": {
  "kernelspec": {
   "display_name": "Python 3",
   "language": "python",
   "name": "python3"
  },
  "language_info": {
   "codemirror_mode": {
    "name": "ipython",
    "version": 3
   },
   "file_extension": ".py",
   "mimetype": "text/x-python",
   "name": "python",
   "nbconvert_exporter": "python",
   "pygments_lexer": "ipython3",
   "version": "3.8.16"
  }
 },
 "nbformat": 4,
 "nbformat_minor": 5
}
