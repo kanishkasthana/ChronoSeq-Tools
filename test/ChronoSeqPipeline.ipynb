{
 "cells": [
  {
   "cell_type": "code",
   "execution_count": 1,
   "metadata": {},
   "outputs": [],
   "source": [
    "import subprocess\n",
    "import shlex\n",
    "import os\n",
    "\n",
    "#This function will run a line directly on the command line and will wait for it to execute before going \n",
    "#to the next line\n",
    "def bash(command):\n",
    "    process = subprocess.Popen(shlex.split(command), stdout=subprocess.PIPE)\n",
    "    while True:\n",
    "        out = process.stdout.readline().decode()\n",
    "        if out == '' and process.poll() is not None:\n",
    "            break\n",
    "        if out:\n",
    "            print(out.strip())\n",
    "\n",
    "#User Inputs needed:            \n",
    "num_cores=20\n",
    "sample_prefix=\"/home/kanishk/mixedHumanMouse/Media_Optimization_Library2\"\n",
    "FastQFileR1=\"/home/kanishk/Temp/18156FL-23-01-02_S2_L001_R1_001.fastq.gz\"\n",
    "FastQFileR2=\"/home/kanishk/Temp/18156FL-23-01-01_S2_L001_R2_001.fastq.gz\"\n",
    "sample_name=sample_prefix.split(\"/\")[-1]\n",
    "OutputFileName=sample_prefix+\"/\"+sample_name+\"_unaligned.bam\"\n",
    "picard_path=\"/home/kanishk/picard.jar\"\n",
    "dropseq_path=\"/home/kanishk/Drop-seq_tools-2.4.0/\"\n",
    "\n",
    "\n",
    "#Create Directory where all files will be kept\n",
    "if not os.path.isdir(sample_prefix):\n",
    "    bash(\"mkdir \"+sample_prefix)"
   ]
  },
  {
   "cell_type": "code",
   "execution_count": null,
   "metadata": {},
   "outputs": [],
   "source": [
    "    \n",
    "#Merging Both Reads into a Single File:\n",
    "bash(\"java -Xmx4g -jar \"+picard_path+\" FastqToSamFastqToSam F1=\"+FastQFileR1+\" F2=\"+FastQFileR2+ \" O=\"+OutputFileName+\" SM=\"+sample_name)"
   ]
  },
  {
   "cell_type": "code",
   "execution_count": 21,
   "metadata": {},
   "outputs": [],
   "source": [
    "def getNewFileName(previousFileName,additional_tag):\n",
    "    newFileName=previousFileName.split('.')[0:-1]\n",
    "    newFileName=\".\".join(newFileName)+additional_tag\n",
    "    return(newFileName,previousFileName)"
   ]
  },
  {
   "cell_type": "code",
   "execution_count": 22,
   "metadata": {},
   "outputs": [
    {
     "name": "stdout",
     "output_type": "stream",
     "text": [
      "/home/kanishk/mixedHumanMouse/Media_Optimization_Library2/Media_Optimization_Library2_unalignedtagged.Cell.bam /home/kanishk/mixedHumanMouse/Media_Optimization_Library2/Media_Optimization_Library2_unaligned.bam\n"
     ]
    }
   ],
   "source": [
    "newFileName,previousFileName=getNewFileName(OutputFileName,\".tagged.Cell.bam\")\n",
    "print(newFileName,previousFileName)"
   ]
  },
  {
   "cell_type": "code",
   "execution_count": null,
   "metadata": {},
   "outputs": [],
   "source": [
    "#Creating New Files with Tagged Read1 Values\n",
    "bash(dropseq_path+\"/TagBamWithReadSequenceExtended INPUT=\"+OutputFileName+\" OUTPUT=\"+OutputFileName\" SUMMARY=unaligned_tagged_Cellular.bam_summary.txt  BASE_RANGE=1-12 BASE_QUALITY=10 BARCODED_READ=1 DISCARD_READ=False TAG_NAME=XC NUM_BASES_BELOW_QUALITY=1\")"
   ]
  }
 ],
 "metadata": {
  "kernelspec": {
   "display_name": "Python 3",
   "language": "python",
   "name": "python3"
  },
  "language_info": {
   "codemirror_mode": {
    "name": "ipython",
    "version": 3
   },
   "file_extension": ".py",
   "mimetype": "text/x-python",
   "name": "python",
   "nbconvert_exporter": "python",
   "pygments_lexer": "ipython3",
   "version": "3.8.5"
  }
 },
 "nbformat": 4,
 "nbformat_minor": 4
}
