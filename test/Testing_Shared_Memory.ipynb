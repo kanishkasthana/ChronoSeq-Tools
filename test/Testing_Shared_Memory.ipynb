{
 "cells": [
  {
   "cell_type": "code",
   "execution_count": 1,
   "id": "b3edb909-7549-4fa6-8a8a-2fe766269d2e",
   "metadata": {},
   "outputs": [],
   "source": [
    "import numpy as np\n",
    "from multiprocessing import shared_memory\n",
    "# Attach to the existing shared memory block\n",
    "existing_shm = shared_memory.SharedMemory(name='psm_115a3212')\n",
    "c = np.ndarray((2, 5724036), dtype=np.int64, buffer=existing_shm.buf)"
   ]
  },
  {
   "cell_type": "code",
   "execution_count": 2,
   "id": "1adb3b6e-7050-4e92-942e-65afb3e26ec6",
   "metadata": {},
   "outputs": [
    {
     "data": {
      "text/plain": [
       "array([[   0,    0,    0, ..., 3381, 3381, 3382],\n",
       "       [   1,    2,    3, ..., 3382, 3383, 3383]])"
      ]
     },
     "execution_count": 2,
     "metadata": {},
     "output_type": "execute_result"
    }
   ],
   "source": [
    "c"
   ]
  },
  {
   "cell_type": "code",
   "execution_count": 3,
   "id": "fcbf3b04-5cfd-4b38-b35a-e2a38d891118",
   "metadata": {},
   "outputs": [],
   "source": [
    "existing_shm.unlink()"
   ]
  },
  {
   "cell_type": "code",
   "execution_count": null,
   "id": "d0629b6d-3ece-46b7-afce-cc743bf805a7",
   "metadata": {},
   "outputs": [],
   "source": []
  }
 ],
 "metadata": {
  "kernelspec": {
   "display_name": "Python 3",
   "language": "python",
   "name": "python3"
  },
  "language_info": {
   "codemirror_mode": {
    "name": "ipython",
    "version": 3
   },
   "file_extension": ".py",
   "mimetype": "text/x-python",
   "name": "python",
   "nbconvert_exporter": "python",
   "pygments_lexer": "ipython3",
   "version": "3.8.5"
  }
 },
 "nbformat": 4,
 "nbformat_minor": 5
}
