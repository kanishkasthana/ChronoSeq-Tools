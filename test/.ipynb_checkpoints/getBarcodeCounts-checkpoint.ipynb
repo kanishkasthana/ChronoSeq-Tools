{
 "cells": [
  {
   "cell_type": "code",
   "execution_count": 1,
   "metadata": {},
   "outputs": [],
   "source": [
    "#Author Kanishk Asthana kasthana@eng.ucsd.edu\n",
    "import pysam\n",
    "from datetime import datetime,timedelta\n",
    "import argparse\n",
    "import os\n",
    "import pandas as pd"
   ]
  },
  {
   "cell_type": "code",
   "execution_count": 2,
   "metadata": {},
   "outputs": [],
   "source": [
    "#Default Values\n",
    "bamFileName=\"/home/kanishk/mixedHumanMouse/star_gene_exon_tagged_Long.sub_corrected.syn_corrected.sample.sam\"\n",
    "outFileName=\"/home/kanishk/mixedHumanMouse/barcode_counts.txt\""
   ]
  },
  {
   "cell_type": "code",
   "execution_count": null,
   "metadata": {},
   "outputs": [],
   "source": [
    "def parse_file(input_filename):\n",
    "    if not os.path.isfile(input_filename):\n",
    "        raise argparse.ArgumentTypeError(\"File does not exist. Please use a valid file path.\")\n",
    "    return(input_filename)\n",
    "\n",
    "parser=argparse.ArgumentParser(description=\"Script to get a list of all Cell Barcodes and their counts in the BAM file. Barcodes are listed in descending order.\")\n",
    "parser.add_argument(\"INPUT_FILENAME\",help=\"BAM file after correcting for Subsitution and Synthesis Errors\", type=parse_file)\n",
    "parser.add_argument(\"OUTPUT_FILENAME\",help=\"Filename for Compressed output. Please suffix filename with .gz to avoid confusion.\",type=str)\n",
    "args=parser.parse_args()\n",
    "print(args)\n",
    "\n",
    "bamFileName=args.INPUT_FILENAME\n",
    "outBamFileName=args.OUTPUT_FILENAME\n",
    "\n",
    "script_start_time=datetime.now()"
   ]
  },
  {
   "cell_type": "code",
   "execution_count": 3,
   "metadata": {},
   "outputs": [],
   "source": [
    "barcode_dict={}"
   ]
  },
  {
   "cell_type": "code",
   "execution_count": 4,
   "metadata": {},
   "outputs": [
    {
     "name": "stdout",
     "output_type": "stream",
     "text": [
      "Started Processing BAM file at 2021-02-04 20:50:50.218303 . Getting Cell Barcodes to correct Bead Synthesis Errors!\n",
      "Finished processing BAM file at  2021-02-04 20:50:51.793342 . Total time taken  0:00:01.574958\n"
     ]
    }
   ],
   "source": [
    "#If you get an error here your file probably not correctly formated. Make sure you have a header.\n",
    "bamFile=pysam.AlignmentFile(bamFileName,\"rb\")\n",
    "BamRecords=bamFile.fetch(until_eof=True)\n",
    "\n",
    "start_time=datetime.now()\n",
    "prevMil=start_time\n",
    "print(\"Started Processing BAM file at\",start_time,\". Getting Cell Barcodes to correct Bead Synthesis Errors!\")\n",
    "\n",
    "total_records=0\n",
    "for record in BamRecords:\n",
    "    \n",
    "\n",
    "    #For printing progress\n",
    "    total_records+=1\n",
    "    if total_records%1000000==0:\n",
    "        time_taken=datetime.now()-prevMil\n",
    "        print(\"Finished processing \",total_records,\"\\trecords at\",datetime.now(),\". Previous 1000000 Records took \",time_taken.total_seconds(),\"s\")\n",
    "        prevMil=datetime.now()\n",
    "    \n",
    "\n",
    "    #Main Logic\n",
    "    cell_barcode=record.get_tag('XC')\n",
    "    \n",
    "    if cell_barcode in barcode_dict:\n",
    "        barcode_dict[cell_barcode]+=1\n",
    "    else:\n",
    "        barcode_dict[cell_barcode]=1\n",
    "\n",
    "\n",
    "total_time=datetime.now()-start_time\n",
    "print(\"Finished processing BAM file at \",datetime.now(),\". Total time taken \",total_time)"
   ]
  },
  {
   "cell_type": "code",
   "execution_count": 5,
   "metadata": {},
   "outputs": [
    {
     "data": {
      "text/html": [
       "<div>\n",
       "<style scoped>\n",
       "    .dataframe tbody tr th:only-of-type {\n",
       "        vertical-align: middle;\n",
       "    }\n",
       "\n",
       "    .dataframe tbody tr th {\n",
       "        vertical-align: top;\n",
       "    }\n",
       "\n",
       "    .dataframe thead th {\n",
       "        text-align: right;\n",
       "    }\n",
       "</style>\n",
       "<table border=\"1\" class=\"dataframe\">\n",
       "  <thead>\n",
       "    <tr style=\"text-align: right;\">\n",
       "      <th></th>\n",
       "      <th>CELL_BARCODE</th>\n",
       "      <th>COUNTS</th>\n",
       "    </tr>\n",
       "  </thead>\n",
       "  <tbody>\n",
       "    <tr>\n",
       "      <th>0</th>\n",
       "      <td>AAAGAGCCATCT</td>\n",
       "      <td>21127</td>\n",
       "    </tr>\n",
       "    <tr>\n",
       "      <th>1</th>\n",
       "      <td>ATAGAACATCNN</td>\n",
       "      <td>20092</td>\n",
       "    </tr>\n",
       "    <tr>\n",
       "      <th>2</th>\n",
       "      <td>CCGATTAAAGGC</td>\n",
       "      <td>17230</td>\n",
       "    </tr>\n",
       "    <tr>\n",
       "      <th>3</th>\n",
       "      <td>TTCGCAAGCCTA</td>\n",
       "      <td>12208</td>\n",
       "    </tr>\n",
       "    <tr>\n",
       "      <th>4</th>\n",
       "      <td>ACAACAAATATG</td>\n",
       "      <td>11727</td>\n",
       "    </tr>\n",
       "  </tbody>\n",
       "</table>\n",
       "</div>"
      ],
      "text/plain": [
       "   CELL_BARCODE  COUNTS\n",
       "0  AAAGAGCCATCT   21127\n",
       "1  ATAGAACATCNN   20092\n",
       "2  CCGATTAAAGGC   17230\n",
       "3  TTCGCAAGCCTA   12208\n",
       "4  ACAACAAATATG   11727"
      ]
     },
     "execution_count": 5,
     "metadata": {},
     "output_type": "execute_result"
    }
   ],
   "source": [
    "barcode_df=pd.DataFrame(list(barcode_dict.items()),columns=[\"CELL_BARCODE\",\"COUNTS\"])\n",
    "barcode_df=barcode_df.sort_values(\"COUNTS\",ascending=False).reset_index(drop=True)"
   ]
  },
  {
   "cell_type": "code",
   "execution_count": 6,
   "metadata": {},
   "outputs": [],
   "source": [
    "barcode_df.to_csv(outFileName,index=False,header=False,sep=\"\\t\",compression='gzip')"
   ]
  },
  {
   "cell_type": "code",
   "execution_count": null,
   "metadata": {},
   "outputs": [],
   "source": [
    "print(\"Total Execution Time:\",datetime.now()-script_start_time)"
   ]
  },
  {
   "cell_type": "markdown",
   "metadata": {},
   "source": []
  }
 ],
 "metadata": {
  "kernelspec": {
   "display_name": "Python 3",
   "language": "python",
   "name": "python3"
  },
  "language_info": {
   "codemirror_mode": {
    "name": "ipython",
    "version": 3
   },
   "file_extension": ".py",
   "mimetype": "text/x-python",
   "name": "python",
   "nbconvert_exporter": "python",
   "pygments_lexer": "ipython3",
   "version": "3.8.5"
  }
 },
 "nbformat": 4,
 "nbformat_minor": 4
}
