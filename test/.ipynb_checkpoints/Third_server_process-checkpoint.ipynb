{
 "cells": [
  {
   "cell_type": "code",
   "execution_count": 1,
   "id": "90d587ae-3627-4350-8cd5-d1f622f64656",
   "metadata": {},
   "outputs": [],
   "source": [
    "from multiprocessing.managers import BaseManager\n",
    "from threading import Lock\n",
    "class LockManager(BaseManager):\n",
    "    pass \n",
    "LockManager.register(\"getLock\")\n",
    "manager = LockManager(address=(\"compute-10\", 55442), authkey=b'Lock')\n",
    "manager.connect()\n",
    "lock=manager.getLock()"
   ]
  },
  {
   "cell_type": "code",
   "execution_count": 7,
   "id": "88ecbe3c-bee7-4707-a264-1e880edb3ee6",
   "metadata": {},
   "outputs": [
    {
     "data": {
      "text/plain": [
       "True"
      ]
     },
     "execution_count": 7,
     "metadata": {},
     "output_type": "execute_result"
    }
   ],
   "source": [
    "lock.acquire()"
   ]
  },
  {
   "cell_type": "code",
   "execution_count": 9,
   "id": "850c6e19-ed02-4b15-bccc-902800aa1c43",
   "metadata": {},
   "outputs": [],
   "source": [
    "lock.release()"
   ]
  },
  {
   "cell_type": "code",
   "execution_count": 6,
   "id": "0b12b217-4434-4124-b13c-b74ac2bcf6af",
   "metadata": {},
   "outputs": [
    {
     "data": {
      "text/plain": [
       "False"
      ]
     },
     "execution_count": 6,
     "metadata": {},
     "output_type": "execute_result"
    }
   ],
   "source": [
    "lock.locked()"
   ]
  },
  {
   "cell_type": "code",
   "execution_count": null,
   "id": "6eb03a57-3172-44b1-bc70-77e844f21182",
   "metadata": {},
   "outputs": [],
   "source": []
  }
 ],
 "metadata": {
  "kernelspec": {
   "display_name": "Python 3",
   "language": "python",
   "name": "python3"
  },
  "language_info": {
   "codemirror_mode": {
    "name": "ipython",
    "version": 3
   },
   "file_extension": ".py",
   "mimetype": "text/x-python",
   "name": "python",
   "nbconvert_exporter": "python",
   "pygments_lexer": "ipython3",
   "version": "3.8.5"
  }
 },
 "nbformat": 4,
 "nbformat_minor": 5
}
