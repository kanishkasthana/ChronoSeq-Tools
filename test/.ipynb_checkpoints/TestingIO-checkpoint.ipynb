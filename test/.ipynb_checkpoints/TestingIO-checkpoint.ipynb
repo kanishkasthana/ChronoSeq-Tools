{
 "cells": [
  {
   "cell_type": "code",
   "execution_count": 1,
   "id": "7a8a01ec",
   "metadata": {},
   "outputs": [],
   "source": [
    "import os\n",
    "import shutil"
   ]
  },
  {
   "cell_type": "code",
   "execution_count": 2,
   "id": "83a3be10",
   "metadata": {},
   "outputs": [
    {
     "data": {
      "text/plain": [
       "'N701_DMEM_0HRS_Bulk_S8_L002_R1_001.fastq.gz'"
      ]
     },
     "execution_count": 2,
     "metadata": {},
     "output_type": "execute_result"
    }
   ],
   "source": [
    "os.path.basename(\"/stg3/data1/kanishk2/BaseSpace_Data/Sept_Oct_2022_Bulk_experiments/N701_DMEM_0HRS_Bulk_S8_L002_R1_001.fastq.gz\")"
   ]
  },
  {
   "cell_type": "code",
   "execution_count": 7,
   "id": "c714a155",
   "metadata": {},
   "outputs": [],
   "source": [
    "dirpath=os.path.dirname(\"/stg3/data1/kanishk2/BaseSpace_Data/Sept_Oct_2022_Bulk_experiments/N701_DMEM_0HRS_Bulk_S8_L002_R1_001.fastq.gz\")"
   ]
  },
  {
   "cell_type": "code",
   "execution_count": 8,
   "id": "17c89447",
   "metadata": {},
   "outputs": [
    {
     "data": {
      "text/plain": [
       "'Sept_Oct_2022_Bulk_experiments'"
      ]
     },
     "execution_count": 8,
     "metadata": {},
     "output_type": "execute_result"
    }
   ],
   "source": [
    "os.path.basename(dirpath)"
   ]
  },
  {
   "cell_type": "code",
   "execution_count": 3,
   "id": "54241d00",
   "metadata": {},
   "outputs": [
    {
     "name": "stdout",
     "output_type": "stream",
     "text": [
      "CPU times: user 0 ns, sys: 17.5 s, total: 17.5 s\n",
      "Wall time: 1min 53s\n"
     ]
    },
    {
     "data": {
      "text/plain": [
       "'/scratch/N701_DMEM_0HRS_Bulk_S8_L002_R1_001.fastq.gz'"
      ]
     },
     "execution_count": 3,
     "metadata": {},
     "output_type": "execute_result"
    }
   ],
   "source": [
    "%%time\n",
    "shutil.copy(\"/stg3/data1/kanishk2/BaseSpace_Data/Sept_Oct_2022_Bulk_experiments/N701_DMEM_0HRS_Bulk_S8_L002_R1_001.fastq.gz\",\"/scratch\")"
   ]
  },
  {
   "cell_type": "code",
   "execution_count": null,
   "id": "1d425418",
   "metadata": {},
   "outputs": [],
   "source": []
  }
 ],
 "metadata": {
  "kernelspec": {
   "display_name": "Python 3",
   "language": "python",
   "name": "python3"
  },
  "language_info": {
   "codemirror_mode": {
    "name": "ipython",
    "version": 3
   },
   "file_extension": ".py",
   "mimetype": "text/x-python",
   "name": "python",
   "nbconvert_exporter": "python",
   "pygments_lexer": "ipython3",
   "version": "3.8.5"
  }
 },
 "nbformat": 4,
 "nbformat_minor": 5
}
