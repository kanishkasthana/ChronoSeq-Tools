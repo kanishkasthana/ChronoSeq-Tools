{
 "cells": [
  {
   "cell_type": "code",
   "execution_count": 1,
   "id": "6d7fe231-2cf1-4c4e-a440-221673977458",
   "metadata": {},
   "outputs": [
    {
     "name": "stderr",
     "output_type": "stream",
     "text": [
      "Loading required package: Matrix\n",
      "\n",
      "Loading required package: parallel\n",
      "\n"
     ]
    },
    {
     "name": "stdout",
     "output_type": "stream",
     "text": [
      "1) Creating pool ...  of size 592\n",
      "2) Conway closing...  done \n",
      " [1] \"GAGAA\" \"AGCAA\" \"CCTAA\" \"CAAGA\" \"ACGGA\" \"GTCGA\" \"TGTGA\" \"GGACA\" \"CTGCA\"\n",
      "[10] \"TACCA\" \"CGAAG\" \"TCGAG\" \"GTTAG\" \"ATAGG\" \"AAGCG\" \"GAATG\" \"TGCTG\" \"ACTTG\"\n",
      "[19] \"ACAAC\" \"CACAC\" \"TAGGC\" \"CTTGC\" \"TTACC\" \"GATCC\" \"AGGTC\" \"GCCAT\" \"TCAGT\"\n",
      "[28] \"AACGT\" \"TGGCT\" \"CAGTT\"\n"
     ]
    }
   ],
   "source": [
    "library(\"DNABarcodes\")\n",
    "mySet <- create.dnabarcodes(5)\n",
    "show(mySet)"
   ]
  },
  {
   "cell_type": "code",
   "execution_count": 2,
   "id": "f9fbdbc0-fb16-4b1f-acc8-fc223449987a",
   "metadata": {},
   "outputs": [
    {
     "name": "stdout",
     "output_type": "stream",
     "text": [
      "1) Creating pool ...  of size 10272768\n",
      "2) Initiating Chromosomes done \n",
      "3) Running Greedy Evolutionary done \n"
     ]
    },
    {
     "data": {
      "text/html": [
       "17"
      ],
      "text/latex": [
       "17"
      ],
      "text/markdown": [
       "17"
      ],
      "text/plain": [
       "[1] 17"
      ]
     },
     "metadata": {},
     "output_type": "display_data"
    }
   ],
   "source": [
    "mySeqlevSet <- create.dnabarcodes(n=12,dist=7, metric=\"seqlev\", heuristic=\"ashlock\",filter.triplets = FALSE,cores = detectCores())\n",
    "length(mySeqlevSet)"
   ]
  },
  {
   "cell_type": "code",
   "execution_count": 3,
   "id": "18bb1257-70f1-4e84-bcca-1037a5274ead",
   "metadata": {},
   "outputs": [
    {
     "name": "stdout",
     "output_type": "stream",
     "text": [
      " [1] \"AGCACAATACCA\" \"AGAGTGCTCGAC\" \"GTGCCTTAAGGG\" \"GGGGGAAAAAAA\" \"CCCCCCCAAAAA\"\n",
      " [6] \"CTACAGAGAGAA\" \"CCGTTTGTAGAA\" \"TAATCCCGGGAA\" \"TTGGTATCCGAA\" \"AAAACGGCCTAA\"\n",
      "[11] \"GGTTTTTCCCCA\" \"CATCTAAGCTCA\" \"AATTTTTGGGGG\" \"TCCCACACTTGG\" \"TGGGAGGTTGTG\"\n",
      "[16] \"CTTTCCTGCCTG\" \"CGGAACCCTCTT\"\n"
     ]
    }
   ],
   "source": [
    "show(mySeqlevSet)"
   ]
  },
  {
   "cell_type": "code",
   "execution_count": 2,
   "id": "2c8897d9-6166-4db9-babc-9fc718da6e58",
   "metadata": {},
   "outputs": [
    {
     "ename": "ERROR",
     "evalue": "Error in parse(text = x, srcfile = src): <text>:1:1: unexpected SPECIAL\n1: %%\n    ^\n",
     "output_type": "error",
     "traceback": [
      "Error in parse(text = x, srcfile = src): <text>:1:1: unexpected SPECIAL\n1: %%\n    ^\nTraceback:\n"
     ]
    }
   ],
   "source": [
    "detectCores()"
   ]
  },
  {
   "cell_type": "code",
   "execution_count": null,
   "id": "d2fc560e-a2c1-4f10-8c9c-26149565af05",
   "metadata": {},
   "outputs": [],
   "source": []
  }
 ],
 "metadata": {
  "kernelspec": {
   "display_name": "R [conda env:r-base]",
   "language": "R",
   "name": "conda-env-r-base-r"
  },
  "language_info": {
   "codemirror_mode": "r",
   "file_extension": ".r",
   "mimetype": "text/x-r-source",
   "name": "R",
   "pygments_lexer": "r",
   "version": "4.1.3"
  }
 },
 "nbformat": 4,
 "nbformat_minor": 5
}
