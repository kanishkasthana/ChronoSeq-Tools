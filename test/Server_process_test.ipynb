{
 "cells": [
  {
   "cell_type": "code",
   "execution_count": null,
   "id": "d3160ea6-2994-4cdd-afb7-4845f2c7b341",
   "metadata": {},
   "outputs": [
    {
     "name": "stdout",
     "output_type": "stream",
     "text": [
      "Starting Global Read/Write Lock on : compute-10\n",
      "IP,Port:  ('192.168.0.13', 55442)\n"
     ]
    }
   ],
   "source": [
    "#Author Kanishk Asthana kasthana@eng.ucsd.edu\n",
    "from multiprocessing.managers import BaseManager\n",
    "from threading import Lock\n",
    "import socket\n",
    "lock=Lock()\n",
    "print(\"Starting Global Read/Write Lock on :\",socket.gethostname())\n",
    "\n",
    "class LockManager(BaseManager):\n",
    "    pass\n",
    "\n",
    "LockManager.register(\"getLock\", callable=lambda:lock)\n",
    "\n",
    "manager = LockManager(address=(socket.gethostname(), 55442), authkey=b'Lock')\n",
    "\n",
    "server = manager.get_server()\n",
    "print(\"IP,Port: \",server.address)\n",
    "server.serve_forever()"
   ]
  },
  {
   "cell_type": "code",
   "execution_count": null,
   "id": "73e5978a-39e2-4c7b-bbc4-14cc307a0451",
   "metadata": {},
   "outputs": [],
   "source": []
  }
 ],
 "metadata": {
  "kernelspec": {
   "display_name": "Python 3",
   "language": "python",
   "name": "python3"
  },
  "language_info": {
   "codemirror_mode": {
    "name": "ipython",
    "version": 3
   },
   "file_extension": ".py",
   "mimetype": "text/x-python",
   "name": "python",
   "nbconvert_exporter": "python",
   "pygments_lexer": "ipython3",
   "version": "3.8.5"
  }
 },
 "nbformat": 4,
 "nbformat_minor": 5
}
