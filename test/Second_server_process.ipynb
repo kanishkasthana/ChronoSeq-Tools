{
 "cells": [
  {
   "cell_type": "code",
   "execution_count": 3,
   "id": "5628bb9b-7c8e-42ea-9dda-ec2030459778",
   "metadata": {},
   "outputs": [],
   "source": [
    "from multiprocessing.managers import BaseManager\n",
    "from threading import Lock\n",
    "class LockManager(BaseManager):\n",
    "    pass \n",
    "LockManager.register(\"getLock\")\n",
    "manager = LockManager(address=(\"compute-10\", 55442), authkey=b'Lock')\n",
    "manager.connect()\n",
    "lock=manager.getLock()"
   ]
  },
  {
   "cell_type": "code",
   "execution_count": null,
   "id": "fb027553-40c2-4dcd-b837-6bfa78b42b39",
   "metadata": {},
   "outputs": [],
   "source": [
    "lock.acquire()"
   ]
  },
  {
   "cell_type": "code",
   "execution_count": 4,
   "id": "4b2d568c-553c-4ba1-bc16-f236d118f9ed",
   "metadata": {},
   "outputs": [],
   "source": [
    "lock.release()"
   ]
  },
  {
   "cell_type": "code",
   "execution_count": 9,
   "id": "0526586f-909e-443a-b28e-a0ed833c99f4",
   "metadata": {},
   "outputs": [
    {
     "data": {
      "text/plain": [
       "True"
      ]
     },
     "execution_count": 9,
     "metadata": {},
     "output_type": "execute_result"
    }
   ],
   "source": [
    "lock.locked()"
   ]
  }
 ],
 "metadata": {
  "kernelspec": {
   "display_name": "Python 3",
   "language": "python",
   "name": "python3"
  },
  "language_info": {
   "codemirror_mode": {
    "name": "ipython",
    "version": 3
   },
   "file_extension": ".py",
   "mimetype": "text/x-python",
   "name": "python",
   "nbconvert_exporter": "python",
   "pygments_lexer": "ipython3",
   "version": "3.8.5"
  }
 },
 "nbformat": 4,
 "nbformat_minor": 5
}
