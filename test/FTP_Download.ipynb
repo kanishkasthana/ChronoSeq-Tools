{
 "cells": [
  {
   "cell_type": "code",
   "execution_count": 1,
   "id": "ae63e88b-a768-4187-868e-a6625cb3dc89",
   "metadata": {},
   "outputs": [],
   "source": [
    "import ftputil"
   ]
  },
  {
   "cell_type": "code",
   "execution_count": 2,
   "id": "04666095-c3fd-4414-bcb7-82b093016cfe",
   "metadata": {},
   "outputs": [],
   "source": [
    "import os"
   ]
  },
  {
   "cell_type": "code",
   "execution_count": 3,
   "id": "2c809787-11a3-4b46-88cd-c58157fe4657",
   "metadata": {},
   "outputs": [],
   "source": [
    "username=\"\"\n",
    "password=\"\"\n",
    "host=\"\"\n",
    "home_dir=\"\"\n",
    "ftp_host = ftputil.FTPHost(host, username, password)"
   ]
  },
  {
   "cell_type": "code",
   "execution_count": 4,
   "id": "ed16de51-2556-4240-b88c-8d8043203fc9",
   "metadata": {},
   "outputs": [],
   "source": [
    "ftp_host.chdir(home_dir)"
   ]
  },
  {
   "cell_type": "code",
   "execution_count": 5,
   "id": "5f729650-68cd-4288-a0bf-567effbee6ad",
   "metadata": {},
   "outputs": [
    {
     "data": {
      "text/plain": [
       "'/250324_LH00444_0313_A22VLMJLT3'"
      ]
     },
     "execution_count": 5,
     "metadata": {},
     "output_type": "execute_result"
    }
   ],
   "source": [
    "ftp_host.getcwd()"
   ]
  },
  {
   "cell_type": "code",
   "execution_count": 6,
   "id": "d9a6f0dc-7559-4905-8179-80727db21318",
   "metadata": {},
   "outputs": [
    {
     "data": {
      "text/plain": [
       "'/stg1/data2/kanishk/chrono-seq-tools/test'"
      ]
     },
     "execution_count": 6,
     "metadata": {},
     "output_type": "execute_result"
    }
   ],
   "source": [
    "os.getcwd()"
   ]
  },
  {
   "cell_type": "code",
   "execution_count": 8,
   "id": "4f08de56-69ed-4954-baa8-9d0c340cc2a8",
   "metadata": {},
   "outputs": [],
   "source": [
    "os.chdir(\"/stg1/data2/kanishk/BaseSpace_Data/March2025_Bulk_and_sc_K562_TNFA/\")"
   ]
  },
  {
   "cell_type": "code",
   "execution_count": 9,
   "id": "b3bbcb94-f3f5-4dee-b489-3e01d7124a29",
   "metadata": {},
   "outputs": [
    {
     "data": {
      "text/plain": [
       "'/stg1/data2/kanishk/BaseSpace_Data/March2025_Bulk_and_sc_K562_TNFA'"
      ]
     },
     "execution_count": 9,
     "metadata": {},
     "output_type": "execute_result"
    }
   ],
   "source": [
    "os.getcwd()"
   ]
  },
  {
   "cell_type": "code",
   "execution_count": 10,
   "id": "96c0d3ee-2a35-4adc-9dcb-ef19ae4aa6b6",
   "metadata": {},
   "outputs": [],
   "source": [
    "all_names=ftp_host.listdir(ftp_host.getcwd())"
   ]
  },
  {
   "cell_type": "code",
   "execution_count": 11,
   "id": "604e57b5-2191-47b0-a998-c5d27c624292",
   "metadata": {},
   "outputs": [
    {
     "name": "stdout",
     "output_type": "stream",
     "text": [
      "N701_scK562_TNFA_Split_1_430_Cells_S1_L004_R1_001.fastq.gz\n",
      "N701_scK562_TNFA_Split_1_430_Cells_S1_L004_R2_001.fastq.gz\n",
      "N702_scK562_TNFA_Split_2_430_Cells_S2_L004_R1_001.fastq.gz\n",
      "N702_scK562_TNFA_Split_2_430_Cells_S2_L004_R2_001.fastq.gz\n",
      "N703_scK562_TNFA_Split_3_430_Cells_S3_L004_R1_001.fastq.gz\n",
      "N703_scK562_TNFA_Split_3_430_Cells_S3_L004_R2_001.fastq.gz\n",
      "N704_scK562_TNFA_Split_4_430_Cells_S4_L004_R1_001.fastq.gz\n",
      "N704_scK562_TNFA_Split_4_430_Cells_S4_L004_R2_001.fastq.gz\n",
      "N705_Bulk_K562_TNFA_600_Cells_S5_L004_R1_001.fastq.gz\n",
      "N705_Bulk_K562_TNFA_600_Cells_S5_L004_R2_001.fastq.gz\n",
      "N706_Bulk_K562_Control_600_Cells_S6_L004_R1_001.fastq.gz\n",
      "N706_Bulk_K562_Control_600_Cells_S6_L004_R2_001.fastq.gz\n",
      "Reports\n",
      "Stats\n",
      "Undetermined_S0_L004_R1_001.fastq.gz\n",
      "Undetermined_S0_L004_R2_001.fastq.gz\n",
      "md5sum.txt\n"
     ]
    }
   ],
   "source": [
    "for name in all_names:\n",
    "    print(name)"
   ]
  },
  {
   "cell_type": "code",
   "execution_count": 12,
   "id": "f56e7cc9-a68f-4d4c-a105-58921773b8f0",
   "metadata": {},
   "outputs": [
    {
     "name": "stdout",
     "output_type": "stream",
     "text": [
      "Remote Paths that will be Copied:\n",
      "/250324_LH00444_0313_A22VLMJLT3/N701_scK562_TNFA_Split_1_430_Cells_S1_L004_R1_001.fastq.gz\n",
      "/250324_LH00444_0313_A22VLMJLT3/N701_scK562_TNFA_Split_1_430_Cells_S1_L004_R2_001.fastq.gz\n",
      "/250324_LH00444_0313_A22VLMJLT3/N702_scK562_TNFA_Split_2_430_Cells_S2_L004_R1_001.fastq.gz\n",
      "/250324_LH00444_0313_A22VLMJLT3/N702_scK562_TNFA_Split_2_430_Cells_S2_L004_R2_001.fastq.gz\n",
      "/250324_LH00444_0313_A22VLMJLT3/N703_scK562_TNFA_Split_3_430_Cells_S3_L004_R1_001.fastq.gz\n",
      "/250324_LH00444_0313_A22VLMJLT3/N703_scK562_TNFA_Split_3_430_Cells_S3_L004_R2_001.fastq.gz\n",
      "/250324_LH00444_0313_A22VLMJLT3/N704_scK562_TNFA_Split_4_430_Cells_S4_L004_R1_001.fastq.gz\n",
      "/250324_LH00444_0313_A22VLMJLT3/N704_scK562_TNFA_Split_4_430_Cells_S4_L004_R2_001.fastq.gz\n",
      "/250324_LH00444_0313_A22VLMJLT3/N705_Bulk_K562_TNFA_600_Cells_S5_L004_R1_001.fastq.gz\n",
      "/250324_LH00444_0313_A22VLMJLT3/N705_Bulk_K562_TNFA_600_Cells_S5_L004_R2_001.fastq.gz\n",
      "/250324_LH00444_0313_A22VLMJLT3/N706_Bulk_K562_Control_600_Cells_S6_L004_R1_001.fastq.gz\n",
      "/250324_LH00444_0313_A22VLMJLT3/N706_Bulk_K562_Control_600_Cells_S6_L004_R2_001.fastq.gz\n",
      "Corresponding Local Paths:\n",
      "/stg1/data2/kanishk/BaseSpace_Data/March2025_Bulk_and_sc_K562_TNFA/N701_scK562_TNFA_Split_1_430_Cells_S1_L004_R1_001.fastq.gz\n",
      "/stg1/data2/kanishk/BaseSpace_Data/March2025_Bulk_and_sc_K562_TNFA/N701_scK562_TNFA_Split_1_430_Cells_S1_L004_R2_001.fastq.gz\n",
      "/stg1/data2/kanishk/BaseSpace_Data/March2025_Bulk_and_sc_K562_TNFA/N702_scK562_TNFA_Split_2_430_Cells_S2_L004_R1_001.fastq.gz\n",
      "/stg1/data2/kanishk/BaseSpace_Data/March2025_Bulk_and_sc_K562_TNFA/N702_scK562_TNFA_Split_2_430_Cells_S2_L004_R2_001.fastq.gz\n",
      "/stg1/data2/kanishk/BaseSpace_Data/March2025_Bulk_and_sc_K562_TNFA/N703_scK562_TNFA_Split_3_430_Cells_S3_L004_R1_001.fastq.gz\n",
      "/stg1/data2/kanishk/BaseSpace_Data/March2025_Bulk_and_sc_K562_TNFA/N703_scK562_TNFA_Split_3_430_Cells_S3_L004_R2_001.fastq.gz\n",
      "/stg1/data2/kanishk/BaseSpace_Data/March2025_Bulk_and_sc_K562_TNFA/N704_scK562_TNFA_Split_4_430_Cells_S4_L004_R1_001.fastq.gz\n",
      "/stg1/data2/kanishk/BaseSpace_Data/March2025_Bulk_and_sc_K562_TNFA/N704_scK562_TNFA_Split_4_430_Cells_S4_L004_R2_001.fastq.gz\n",
      "/stg1/data2/kanishk/BaseSpace_Data/March2025_Bulk_and_sc_K562_TNFA/N705_Bulk_K562_TNFA_600_Cells_S5_L004_R1_001.fastq.gz\n",
      "/stg1/data2/kanishk/BaseSpace_Data/March2025_Bulk_and_sc_K562_TNFA/N705_Bulk_K562_TNFA_600_Cells_S5_L004_R2_001.fastq.gz\n",
      "/stg1/data2/kanishk/BaseSpace_Data/March2025_Bulk_and_sc_K562_TNFA/N706_Bulk_K562_Control_600_Cells_S6_L004_R1_001.fastq.gz\n",
      "/stg1/data2/kanishk/BaseSpace_Data/March2025_Bulk_and_sc_K562_TNFA/N706_Bulk_K562_Control_600_Cells_S6_L004_R2_001.fastq.gz\n"
     ]
    }
   ],
   "source": [
    "remote_paths=[]\n",
    "local_paths=[]\n",
    "for fileName in all_names:\n",
    "    if fileName[0:3]==\"N70\":\n",
    "        remote_paths.append(ftp_host.getcwd()+\"/\"+fileName)\n",
    "        local_paths.append(os.getcwd()+\"/\"+fileName)\n",
    "print(\"Remote Paths that will be Copied:\")\n",
    "for path in remote_paths:\n",
    "    print(path)\n",
    "print(\"Corresponding Local Paths:\")\n",
    "for path in local_paths:\n",
    "    print(path)"
   ]
  },
  {
   "cell_type": "code",
   "execution_count": null,
   "id": "7778d6c0-3960-4e79-a4ba-1d1db295b27b",
   "metadata": {},
   "outputs": [
    {
     "name": "stdout",
     "output_type": "stream",
     "text": [
      "Downloaded : /stg1/data2/kanishk/BaseSpace_Data/March2025_Bulk_and_sc_K562_TNFA/N701_scK562_TNFA_Split_1_430_Cells_S1_L004_R1_001.fastq.gz\n"
     ]
    }
   ],
   "source": [
    "for i in range(0,len(remote_paths)):\n",
    "    ftp_host.download(remote_paths[i],local_paths[i])\n",
    "    print(\"Downloaded : \"+local_paths[i])"
   ]
  },
  {
   "cell_type": "code",
   "execution_count": 16,
   "id": "db3e6945-9728-4174-ad22-99cbc86de0e2",
   "metadata": {},
   "outputs": [],
   "source": [
    "ftp_host.close()"
   ]
  },
  {
   "cell_type": "code",
   "execution_count": null,
   "id": "207b72b0-1e8a-48a8-8e32-9f2792809418",
   "metadata": {},
   "outputs": [],
   "source": []
  }
 ],
 "metadata": {
  "kernelspec": {
   "display_name": "Python 3",
   "language": "python",
   "name": "python3"
  },
  "language_info": {
   "codemirror_mode": {
    "name": "ipython",
    "version": 3
   },
   "file_extension": ".py",
   "mimetype": "text/x-python",
   "name": "python",
   "nbconvert_exporter": "python",
   "pygments_lexer": "ipython3",
   "version": "3.8.16"
  }
 },
 "nbformat": 4,
 "nbformat_minor": 5
}
